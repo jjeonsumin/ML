{
 "cells": [
  {
   "cell_type": "code",
   "execution_count": 44,
   "metadata": {},
   "outputs": [],
   "source": [
    "import sklearn"
   ]
  },
  {
   "cell_type": "code",
   "execution_count": 45,
   "metadata": {},
   "outputs": [
    {
     "data": {
      "text/plain": [
       "array([ 0.,  0.,  0.,  2., 13.,  0.,  0.,  0.,  0.,  0.,  0.,  8., 15.,\n",
       "        0.,  0.,  0.,  0.,  0.,  5., 16.,  5.,  2.,  0.,  0.,  0.,  0.,\n",
       "       15., 12.,  1., 16.,  4.,  0.,  0.,  4., 16.,  2.,  9., 16.,  8.,\n",
       "        0.,  0.,  0., 10., 14., 16., 16.,  4.,  0.,  0.,  0.,  0.,  0.,\n",
       "       13.,  8.,  0.,  0.,  0.,  0.,  0.,  0., 13.,  6.,  0.,  0.])"
      ]
     },
     "execution_count": 45,
     "metadata": {},
     "output_type": "execute_result"
    }
   ],
   "source": [
    "from sklearn.datasets import load_digits\n",
    "load_digits()['data'][100]"
   ]
  },
  {
   "cell_type": "code",
   "execution_count": 46,
   "metadata": {},
   "outputs": [
    {
     "data": {
      "text/plain": [
       "4"
      ]
     },
     "execution_count": 46,
     "metadata": {},
     "output_type": "execute_result"
    }
   ],
   "source": [
    "load_digits()['target'][100]"
   ]
  },
  {
   "cell_type": "code",
   "execution_count": 47,
   "metadata": {},
   "outputs": [
    {
     "name": "stdout",
     "output_type": "stream",
     "text": [
      "[[ 0.  0.  5. ...  0.  0.  0.]\n",
      " [ 0.  0.  0. ... 10.  0.  0.]\n",
      " [ 0.  0.  0. ... 16.  9.  0.]\n",
      " ...\n",
      " [ 0.  0.  1. ...  6.  0.  0.]\n",
      " [ 0.  0.  2. ... 12.  0.  0.]\n",
      " [ 0.  0. 10. ... 12.  1.  0.]]\n",
      "### digits.data.shape: (1797, 64)\n",
      "[0 1 2 ... 8 9 8]\n",
      "### digits.target.shape: (1797,)\n",
      "레이블 테스트 세트 크기:  (450,)\n",
      "테스트 세트 레이블 0과 1의 분포도\n",
      "0    405\n",
      "1     45\n",
      "Name: count, dtype: int64\n",
      "모든 예측을 0으로 하여도 정확도는: 0.900\n"
     ]
    }
   ],
   "source": [
    "from sklearn.datasets import load_digits\n",
    "from sklearn.model_selection import train_test_split\n",
    "from sklearn.base import BaseEstimator\n",
    "from sklearn.metrics import accuracy_score\n",
    "import numpy as np\n",
    "import pandas as pd\n",
    "\n",
    "class MyFakeClassifier(BaseEstimator):\n",
    "    def fit(self, X,y):\n",
    "        pass\n",
    "        \n",
    "    # 입력값으로 들어오는 X 데이터셋의 크기만큼 모두 0값으로 만들어서 반환\n",
    "    def predict(self,X):\n",
    "        return np.zeros((len(X),1), dtype=bool)\n",
    "\n",
    "# 사이킷런의 내장 데이터셋인 load_digits()를 이용하여 MNIST 데이터 로딩\n",
    "digits = load_digits()\n",
    "\n",
    "print(digits.data)\n",
    "print(\"### digits.data.shape:\", digits.data.shape)\n",
    "print(digits.target)\n",
    "print(\"### digits.target.shape:\", digits.target.shape)\n",
    "\n",
    "y = (digits.target == 7).astype(int)\n",
    "X_train, X_test, y_train, y_test = train_test_split(digits.data, y, random_state = 11)\n",
    "print('레이블 테스트 세트 크기: ', y_test.shape)\n",
    "print('테스트 세트 레이블 0과 1의 분포도')\n",
    "print(pd.Series(y_test).value_counts())\n",
    "fakeclf = MyFakeClassifier()\n",
    "fakeclf.fit(X_train, y_train)\n",
    "fakepred = fakeclf.predict(X_test)\n",
    "print('모든 예측을 0으로 하여도 정확도는: {:.3f}'.format(accuracy_score(y_test, fakepred)))"
   ]
  },
  {
   "cell_type": "code",
   "execution_count": 48,
   "metadata": {},
   "outputs": [
    {
     "data": {
      "text/plain": [
       "array([[405,   0],\n",
       "       [ 45,   0]], dtype=int64)"
      ]
     },
     "execution_count": 48,
     "metadata": {},
     "output_type": "execute_result"
    }
   ],
   "source": [
    "# sklearn.metrics.confusion_matrix\n",
    "from sklearn.metrics import confusion_matrix\n",
    "\n",
    "result = confusion_matrix(y_test, fakepred)\n",
    "result\n"
   ]
  },
  {
   "cell_type": "code",
   "execution_count": 49,
   "metadata": {},
   "outputs": [],
   "source": [
    "tn, fp, fn, tp = result.ravel()"
   ]
  },
  {
   "cell_type": "code",
   "execution_count": 50,
   "metadata": {},
   "outputs": [
    {
     "data": {
      "text/plain": [
       "(405, 0, 45, 0)"
      ]
     },
     "execution_count": 50,
     "metadata": {},
     "output_type": "execute_result"
    }
   ],
   "source": [
    "tn, fp, fn, tp "
   ]
  },
  {
   "cell_type": "code",
   "execution_count": 51,
   "metadata": {},
   "outputs": [
    {
     "data": {
      "text/plain": [
       "0.9"
      ]
     },
     "execution_count": 51,
     "metadata": {},
     "output_type": "execute_result"
    }
   ],
   "source": [
    "from sklearn.metrics import accuracy_score, precision_score, recall_score\n",
    "\n",
    "accuracy_score(y_test, fakepred)"
   ]
  },
  {
   "cell_type": "code",
   "execution_count": 52,
   "metadata": {},
   "outputs": [
    {
     "name": "stderr",
     "output_type": "stream",
     "text": [
      "c:\\Users\\User\\AppData\\Local\\Programs\\Python\\Python39\\lib\\site-packages\\sklearn\\metrics\\_classification.py:1509: UndefinedMetricWarning: Precision is ill-defined and being set to 0.0 due to no predicted samples. Use `zero_division` parameter to control this behavior.\n",
      "  _warn_prf(average, modifier, f\"{metric.capitalize()} is\", len(result))\n"
     ]
    },
    {
     "data": {
      "text/plain": [
       "0.0"
      ]
     },
     "execution_count": 52,
     "metadata": {},
     "output_type": "execute_result"
    }
   ],
   "source": [
    "precision_score(y_test, fakepred)"
   ]
  },
  {
   "cell_type": "code",
   "execution_count": 53,
   "metadata": {},
   "outputs": [
    {
     "data": {
      "text/plain": [
       "0.0"
      ]
     },
     "execution_count": 53,
     "metadata": {},
     "output_type": "execute_result"
    }
   ],
   "source": [
    "recall_score(y_test, fakepred)"
   ]
  },
  {
   "cell_type": "code",
   "execution_count": 54,
   "metadata": {},
   "outputs": [
    {
     "data": {
      "text/html": [
       "<div>\n",
       "<style scoped>\n",
       "    .dataframe tbody tr th:only-of-type {\n",
       "        vertical-align: middle;\n",
       "    }\n",
       "\n",
       "    .dataframe tbody tr th {\n",
       "        vertical-align: top;\n",
       "    }\n",
       "\n",
       "    .dataframe thead th {\n",
       "        text-align: right;\n",
       "    }\n",
       "</style>\n",
       "<table border=\"1\" class=\"dataframe\">\n",
       "  <thead>\n",
       "    <tr style=\"text-align: right;\">\n",
       "      <th></th>\n",
       "      <th>PassengerId</th>\n",
       "      <th>Survived</th>\n",
       "      <th>Pclass</th>\n",
       "      <th>Name</th>\n",
       "      <th>Sex</th>\n",
       "      <th>Age</th>\n",
       "      <th>SibSp</th>\n",
       "      <th>Parch</th>\n",
       "      <th>Ticket</th>\n",
       "      <th>Fare</th>\n",
       "      <th>Cabin</th>\n",
       "      <th>Embarked</th>\n",
       "    </tr>\n",
       "  </thead>\n",
       "  <tbody>\n",
       "    <tr>\n",
       "      <th>0</th>\n",
       "      <td>1</td>\n",
       "      <td>0</td>\n",
       "      <td>3</td>\n",
       "      <td>Braund, Mr. Owen Harris</td>\n",
       "      <td>male</td>\n",
       "      <td>22.0</td>\n",
       "      <td>1</td>\n",
       "      <td>0</td>\n",
       "      <td>A/5 21171</td>\n",
       "      <td>7.2500</td>\n",
       "      <td>NaN</td>\n",
       "      <td>S</td>\n",
       "    </tr>\n",
       "    <tr>\n",
       "      <th>1</th>\n",
       "      <td>2</td>\n",
       "      <td>1</td>\n",
       "      <td>1</td>\n",
       "      <td>Cumings, Mrs. John Bradley (Florence Briggs Th...</td>\n",
       "      <td>female</td>\n",
       "      <td>38.0</td>\n",
       "      <td>1</td>\n",
       "      <td>0</td>\n",
       "      <td>PC 17599</td>\n",
       "      <td>71.2833</td>\n",
       "      <td>C85</td>\n",
       "      <td>C</td>\n",
       "    </tr>\n",
       "    <tr>\n",
       "      <th>2</th>\n",
       "      <td>3</td>\n",
       "      <td>1</td>\n",
       "      <td>3</td>\n",
       "      <td>Heikkinen, Miss. Laina</td>\n",
       "      <td>female</td>\n",
       "      <td>26.0</td>\n",
       "      <td>0</td>\n",
       "      <td>0</td>\n",
       "      <td>STON/O2. 3101282</td>\n",
       "      <td>7.9250</td>\n",
       "      <td>NaN</td>\n",
       "      <td>S</td>\n",
       "    </tr>\n",
       "    <tr>\n",
       "      <th>3</th>\n",
       "      <td>4</td>\n",
       "      <td>1</td>\n",
       "      <td>1</td>\n",
       "      <td>Futrelle, Mrs. Jacques Heath (Lily May Peel)</td>\n",
       "      <td>female</td>\n",
       "      <td>35.0</td>\n",
       "      <td>1</td>\n",
       "      <td>0</td>\n",
       "      <td>113803</td>\n",
       "      <td>53.1000</td>\n",
       "      <td>C123</td>\n",
       "      <td>S</td>\n",
       "    </tr>\n",
       "    <tr>\n",
       "      <th>4</th>\n",
       "      <td>5</td>\n",
       "      <td>0</td>\n",
       "      <td>3</td>\n",
       "      <td>Allen, Mr. William Henry</td>\n",
       "      <td>male</td>\n",
       "      <td>35.0</td>\n",
       "      <td>0</td>\n",
       "      <td>0</td>\n",
       "      <td>373450</td>\n",
       "      <td>8.0500</td>\n",
       "      <td>NaN</td>\n",
       "      <td>S</td>\n",
       "    </tr>\n",
       "  </tbody>\n",
       "</table>\n",
       "</div>"
      ],
      "text/plain": [
       "   PassengerId  Survived  Pclass  \\\n",
       "0            1         0       3   \n",
       "1            2         1       1   \n",
       "2            3         1       3   \n",
       "3            4         1       1   \n",
       "4            5         0       3   \n",
       "\n",
       "                                                Name     Sex   Age  SibSp  \\\n",
       "0                            Braund, Mr. Owen Harris    male  22.0      1   \n",
       "1  Cumings, Mrs. John Bradley (Florence Briggs Th...  female  38.0      1   \n",
       "2                             Heikkinen, Miss. Laina  female  26.0      0   \n",
       "3       Futrelle, Mrs. Jacques Heath (Lily May Peel)  female  35.0      1   \n",
       "4                           Allen, Mr. William Henry    male  35.0      0   \n",
       "\n",
       "   Parch            Ticket     Fare Cabin Embarked  \n",
       "0      0         A/5 21171   7.2500   NaN        S  \n",
       "1      0          PC 17599  71.2833   C85        C  \n",
       "2      0  STON/O2. 3101282   7.9250   NaN        S  \n",
       "3      0            113803  53.1000  C123        S  \n",
       "4      0            373450   8.0500   NaN        S  "
      ]
     },
     "execution_count": 54,
     "metadata": {},
     "output_type": "execute_result"
    }
   ],
   "source": [
    "import pandas as pd\n",
    "\n",
    "titanic_train_df = pd.read_csv('./datasets/titanic_train.csv')\n",
    "titanic_test_df = pd.read_csv('./datasets/titanic_test.csv')\n",
    "titanic_train_df.head()"
   ]
  },
  {
   "cell_type": "code",
   "execution_count": 55,
   "metadata": {},
   "outputs": [],
   "source": [
    "mean = titanic_train_df['Age'].mean()\n",
    "\n",
    "titanic_train_df['Age'] = titanic_train_df['Age'].fillna(mean)\n",
    "titanic_test_df['Age'] = titanic_test_df['Age'].fillna(mean)"
   ]
  },
  {
   "cell_type": "code",
   "execution_count": 56,
   "metadata": {},
   "outputs": [],
   "source": [
    "from sklearn.preprocessing import LabelEncoder\n",
    "\n",
    "le = LabelEncoder()\n",
    "le.fit(titanic_train_df['Sex'])\n",
    "\n",
    "titanic_train_df['Sex'] = le.transform(titanic_train_df['Sex'])\n",
    "titanic_test_df['Sex'] = le.transform(titanic_test_df['Sex'])"
   ]
  },
  {
   "cell_type": "code",
   "execution_count": 57,
   "metadata": {},
   "outputs": [],
   "source": [
    "gender_submission = pd.read_csv('./datasets/titanic_gender_submission.csv')\n",
    "X_train_df = titanic_train_df[['Pclass', 'Sex','Age']]\n",
    "y_train = titanic_train_df['Survived']\n",
    "\n",
    "X_test_df = titanic_test_df[['Pclass', 'Sex','Age']]\n",
    "y_test = gender_submission['Survived']"
   ]
  },
  {
   "cell_type": "code",
   "execution_count": 58,
   "metadata": {},
   "outputs": [],
   "source": [
    "from sklearn.linear_model import LogisticRegression\n",
    "lr_clf = LogisticRegression()\n",
    "\n",
    "clf = LogisticRegression(random_state=0)\n",
    "clf.fit(X_train_df, y_train)\n",
    "\n",
    "pred = clf.predict(X_test_df)"
   ]
  },
  {
   "cell_type": "code",
   "execution_count": 59,
   "metadata": {},
   "outputs": [],
   "source": [
    "from sklearn.metrics import accuracy_score, precision_score, recall_score, f1_score"
   ]
  },
  {
   "cell_type": "code",
   "execution_count": 60,
   "metadata": {},
   "outputs": [
    {
     "data": {
      "text/plain": [
       "0.9569377990430622"
      ]
     },
     "execution_count": 60,
     "metadata": {},
     "output_type": "execute_result"
    }
   ],
   "source": [
    "accuracy_score(y_test, pred)"
   ]
  },
  {
   "cell_type": "code",
   "execution_count": 61,
   "metadata": {},
   "outputs": [
    {
     "data": {
      "text/plain": [
       "0.935064935064935"
      ]
     },
     "execution_count": 61,
     "metadata": {},
     "output_type": "execute_result"
    }
   ],
   "source": [
    "precision_score(y_test, pred)"
   ]
  },
  {
   "cell_type": "code",
   "execution_count": 62,
   "metadata": {},
   "outputs": [
    {
     "data": {
      "text/plain": [
       "0.9473684210526315"
      ]
     },
     "execution_count": 62,
     "metadata": {},
     "output_type": "execute_result"
    }
   ],
   "source": [
    "recall_score(y_test, pred)"
   ]
  },
  {
   "cell_type": "code",
   "execution_count": 63,
   "metadata": {},
   "outputs": [
    {
     "data": {
      "text/plain": [
       "0.9411764705882353"
      ]
     },
     "execution_count": 63,
     "metadata": {},
     "output_type": "execute_result"
    }
   ],
   "source": [
    "1/((1/0.935064935064935 +1 / 0.9473684210526315)/2)"
   ]
  },
  {
   "cell_type": "code",
   "execution_count": 64,
   "metadata": {},
   "outputs": [
    {
     "data": {
      "text/plain": [
       "0.9411764705882353"
      ]
     },
     "execution_count": 64,
     "metadata": {},
     "output_type": "execute_result"
    }
   ],
   "source": [
    "f1_score(y_test, pred)"
   ]
  },
  {
   "cell_type": "code",
   "execution_count": 65,
   "metadata": {},
   "outputs": [],
   "source": [
    "pred_proba = clf.predict_proba(X_test_df)"
   ]
  },
  {
   "cell_type": "code",
   "execution_count": 66,
   "metadata": {},
   "outputs": [
    {
     "data": {
      "text/plain": [
       "array([0.07758662, 0.40917757, 0.09613191, 0.09719739, 0.61192902,\n",
       "       0.14174069, 0.54788624, 0.25804812, 0.64269377, 0.11595667,\n",
       "       0.08967637, 0.36016139, 0.93714081, 0.09330995, 0.87124971,\n",
       "       0.821906  , 0.20548738, 0.11595667, 0.57220891, 0.42518038,\n",
       "       0.29507337, 0.16296258, 0.92283159, 0.56171633, 0.86751255,\n",
       "       0.04807468, 0.93905191, 0.11099111, 0.39888698, 0.08967637,\n",
       "       0.13634077, 0.27084991, 0.52333267, 0.55033799, 0.48798348,\n",
       "       0.12466134, 0.55033799, 0.61971526, 0.10312852, 0.08967637,\n",
       "       0.06762853, 0.49045797, 0.0635943 , 0.79114548, 0.8784547 ,\n",
       "       0.10312852, 0.36778013, 0.08967637, 0.81520624, 0.4986658 ,\n",
       "       0.53727952, 0.2517972 , 0.84036705, 0.92672094, 0.23543308,\n",
       "       0.15852287, 0.07641708, 0.10312852, 0.08967637, 0.90670777,\n",
       "       0.13014896, 0.22207604, 0.12646814, 0.61192902, 0.62514043,\n",
       "       0.792777  , 0.64269377, 0.35261246, 0.47976428, 0.81520624,\n",
       "       0.59618749, 0.11595667, 0.55602515, 0.50032308, 0.90945472,\n",
       "       0.46745738, 0.08967637, 0.83872334, 0.23365525, 0.59618749,\n",
       "       0.17688256, 0.21997518, 0.33773616, 0.08967637, 0.23543308,\n",
       "       0.08967637, 0.57220891, 0.64269377, 0.55033799, 0.43382654,\n",
       "       0.61192902, 0.08967637, 0.9289248 , 0.08967637, 0.529088  ,\n",
       "       0.10312852, 0.7226435 , 0.09157253, 0.62744039, 0.08119421,\n",
       "       0.88530958, 0.2517972 , 0.08967637, 0.10012393, 0.65766338,\n",
       "       0.09434741, 0.11595667, 0.08967637, 0.08967637, 0.30803969,\n",
       "       0.175113  , 0.55033799, 0.90670777, 0.63890605, 0.79986733,\n",
       "       0.12646814, 0.08967637, 0.75888483, 0.43892009, 0.79653153,\n",
       "       0.87261227, 0.08967637, 0.90945472, 0.09434741, 0.08967637,\n",
       "       0.65021557, 0.11262527, 0.55033799, 0.17040966, 0.10621264,\n",
       "       0.08368358, 0.30894714, 0.55033799, 0.08967637, 0.0597853 ,\n",
       "       0.10621264, 0.09865099, 0.25804812, 0.60408522, 0.06558258,\n",
       "       0.70064462, 0.91473097, 0.25571883, 0.24564756, 0.3910224 ,\n",
       "       0.0862421 , 0.49045797, 0.11262527, 0.49045797, 0.23365525,\n",
       "       0.93714081, 0.08967637, 0.03451273, 0.4986658 , 0.14579181,\n",
       "       0.10621264, 0.92445429, 0.60408522, 0.3910224 , 0.58024542,\n",
       "       0.55033799, 0.17214161, 0.81206604, 0.08967637, 0.175113  ,\n",
       "       0.58024542, 0.3451364 , 0.12646814, 0.92283159, 0.61192902,\n",
       "       0.08967637, 0.09719739, 0.10937774, 0.08967637, 0.06558258,\n",
       "       0.86122723, 0.84036705, 0.30196504, 0.75664507, 0.7945468 ,\n",
       "       0.23365525, 0.43083192, 0.94616511, 0.08967637, 0.9289248 ,\n",
       "       0.179918  , 0.83590232, 0.13014896, 0.55033799, 0.179918  ,\n",
       "       0.21091273, 0.49045797, 0.15204802, 0.09902989, 0.3861022 ,\n",
       "       0.08119421, 0.67739093, 0.64269377, 0.27739847, 0.55033799,\n",
       "       0.55033799, 0.20570643, 0.35261246, 0.88654272, 0.26439939,\n",
       "       0.49045797, 0.50689331, 0.27084991, 0.91473097, 0.10312852,\n",
       "       0.08368358, 0.08967637, 0.31866096, 0.58528095, 0.48221742,\n",
       "       0.3910224 , 0.55033799, 0.28156878, 0.85976246, 0.08967637,\n",
       "       0.79114548, 0.11595667, 0.83133777, 0.11595667, 0.8474298 ,\n",
       "       0.55033799, 0.10937774, 0.55033799, 0.06458132, 0.20016618,\n",
       "       0.34047077, 0.94090856, 0.11595667, 0.08967637, 0.41476987,\n",
       "       0.11937336, 0.23738398, 0.11937336, 0.84900075, 0.86751255,\n",
       "       0.83872334, 0.69807909, 0.36778013, 0.08967637, 0.08967637,\n",
       "       0.39888698, 0.83133777, 0.17040966, 0.79653153, 0.55033799,\n",
       "       0.90795509, 0.11937336, 0.51266229, 0.10621264, 0.08243034,\n",
       "       0.08967637, 0.08967637, 0.09434741, 0.84473288, 0.11595667,\n",
       "       0.07300488, 0.11595667, 0.79653153, 0.75888483, 0.23365525,\n",
       "       0.08967637, 0.49045797, 0.08967637, 0.55033799, 0.13014896,\n",
       "       0.36016139, 0.08967637, 0.93106731, 0.55033799, 0.08967637,\n",
       "       0.84036705, 0.24564756, 0.179918  , 0.23365525, 0.28404367,\n",
       "       0.60408522, 0.20345706, 0.55033799, 0.70750169, 0.75281148,\n",
       "       0.07412639, 0.08967637, 0.53727952, 0.08967637, 0.08967637,\n",
       "       0.49045797, 0.54788624, 0.08967637, 0.30894714, 0.07412639,\n",
       "       0.10012393, 0.90773481, 0.08967637, 0.48798348, 0.09157253,\n",
       "       0.08368358, 0.23543308, 0.16580726, 0.10621264, 0.55033799,\n",
       "       0.7945468 , 0.48798348, 0.2030307 , 0.29507337, 0.42518038,\n",
       "       0.12646814, 0.11262527, 0.08967637, 0.49043902, 0.83872334,\n",
       "       0.65021557, 0.28156878, 0.30454322, 0.09719739, 0.28404367,\n",
       "       0.10012393, 0.10312852, 0.25804812, 0.46336312, 0.89801381,\n",
       "       0.10937774, 0.87261227, 0.36016139, 0.23960002, 0.290784  ,\n",
       "       0.67687163, 0.41476987, 0.08967637, 0.63510098, 0.09719739,\n",
       "       0.48798348, 0.22207604, 0.06762853, 0.26439939, 0.08967637,\n",
       "       0.31155831, 0.08368358, 0.08967637, 0.82491724, 0.08967637,\n",
       "       0.65766338, 0.25804812, 0.48221742, 0.27084991, 0.78565521,\n",
       "       0.8784547 , 0.26439939, 0.31155831, 0.14026278, 0.76384781,\n",
       "       0.33041453, 0.82011289, 0.08967637, 0.08967637, 0.54788624,\n",
       "       0.1397506 , 0.821906  , 0.78565521, 0.09719739, 0.93314989,\n",
       "       0.55033799, 0.08967637, 0.61192902, 0.8784547 , 0.23960002,\n",
       "       0.290784  , 0.9197269 , 0.33773616, 0.16130499, 0.84312572,\n",
       "       0.8784547 , 0.61192902, 0.290784  , 0.29507337, 0.18172542,\n",
       "       0.08967637, 0.10012393, 0.55033799, 0.63510098, 0.23543308,\n",
       "       0.821906  , 0.10621264, 0.11141154, 0.11595667, 0.17688256,\n",
       "       0.54545096, 0.85574708, 0.14579181, 0.1483899 , 0.09157253,\n",
       "       0.94616511, 0.10621264, 0.86751255, 0.11262527, 0.0862421 ,\n",
       "       0.92212343, 0.18983547, 0.93905191, 0.5938195 , 0.38321403,\n",
       "       0.29761779, 0.27739847, 0.33041453, 0.55033799, 0.74663622,\n",
       "       0.55033799, 0.90388629, 0.56413411, 0.08967637, 0.89801381,\n",
       "       0.06867356, 0.08967637, 0.08967637])"
      ]
     },
     "execution_count": 66,
     "metadata": {},
     "output_type": "execute_result"
    }
   ],
   "source": [
    "pred_proba[:,1]"
   ]
  },
  {
   "cell_type": "code",
   "execution_count": 67,
   "metadata": {},
   "outputs": [],
   "source": [
    "from sklearn.preprocessing import Binarizer\n",
    "\n",
    "thresholds = [0.4,0.45,0.50,0.55,0.60]\n",
    "\n",
    "def get_clf_eval(y_test,pred):\n",
    "    confusion = confusion_matrix(y_test,pred)\n",
    "    accuracy = accuracy_score(y_test,pred)\n",
    "    precision = precision_score(y_test,pred)\n",
    "    recall = recall_score(y_test,pred)\n",
    "    print('오차행렬')\n",
    "    print(confusion)\n",
    "    print(f'정확도:{accuracy:.4f}, 정밀도:{precision:.4f}, 재현율: {recall:.4f}')"
   ]
  },
  {
   "cell_type": "code",
   "execution_count": 68,
   "metadata": {},
   "outputs": [
    {
     "name": "stdout",
     "output_type": "stream",
     "text": [
      "임계값 : 0.4\n",
      "오차행렬\n",
      "[[237  29]\n",
      " [  0 152]]\n",
      "정확도:0.9306, 정밀도:0.8398, 재현율: 1.0000\n",
      "임계값 : 0.45\n",
      "오차행렬\n",
      "[[242  24]\n",
      " [  3 149]]\n",
      "정확도:0.9354, 정밀도:0.8613, 재현율: 0.9803\n",
      "임계값 : 0.5\n",
      "오차행렬\n",
      "[[256  10]\n",
      " [  8 144]]\n",
      "정확도:0.9569, 정밀도:0.9351, 재현율: 0.9474\n",
      "임계값 : 0.55\n",
      "오차행렬\n",
      "[[262   4]\n",
      " [ 13 139]]\n",
      "정확도:0.9593, 정밀도:0.9720, 재현율: 0.9145\n",
      "임계값 : 0.6\n",
      "오차행렬\n",
      "[[264   2]\n",
      " [ 44 108]]\n",
      "정확도:0.8900, 정밀도:0.9818, 재현율: 0.7105\n"
     ]
    }
   ],
   "source": [
    "def get_eval_by_threshold(y_test,pred_proba_c1,thresholds):\n",
    "    for custom_threshold in thresholds:\n",
    "        binarizer = Binarizer(threshold = custom_threshold).fit(pred_proba_c1)\n",
    "        custom_predict = binarizer.transform(pred_proba_c1)\n",
    "        print(f'임계값 : {custom_threshold}')\n",
    "        get_clf_eval(y_test,custom_predict)\n",
    "\n",
    "get_eval_by_threshold(y_test,pred_proba[:,1].reshape(-1,1),thresholds)"
   ]
  },
  {
   "cell_type": "code",
   "execution_count": 69,
   "metadata": {},
   "outputs": [],
   "source": [
    "from sklearn.metrics import accuracy_score , precision_score , recall_score , f1_score"
   ]
  },
  {
   "cell_type": "code",
   "execution_count": 70,
   "metadata": {},
   "outputs": [],
   "source": [
    "from sklearn.metrics import accuracy_score , precision_score , recall_score , f1_score\n",
    "def get_clf_eval(y_test,pred):\n",
    "    confusion = confusion_matrix(y_test,pred)\n",
    "    accuracy = accuracy_score(y_test,pred)\n",
    "    precision = precision_score(y_test,pred)\n",
    "    recall = recall_score(y_test,pred)\n",
    "    f1score = f1_score(y_test,pred)\n",
    "    print('오차행렬')\n",
    "    print(confusion)\n",
    "    print(f'정확도:{accuracy:.4f}, 정밀도:{precision:.4f}, 재현율: {recall:.4f} , f1 : {f1score:.4f}')"
   ]
  },
  {
   "cell_type": "code",
   "execution_count": 71,
   "metadata": {},
   "outputs": [],
   "source": [
    "from sklearn.preprocessing import Binarizer\n",
    "from sklearn.metrics import accuracy_score , precision_score , recall_score , f1_score\n",
    "thresholds = [0.4,0.45,0.50,0.55,0.60]"
   ]
  },
  {
   "cell_type": "code",
   "execution_count": 72,
   "metadata": {},
   "outputs": [],
   "source": [
    "# sklearn.metrics.precision_recall_curve\n",
    "from sklearn.metrics import precision_recall_curve\n",
    "\n",
    "precision, recall, thresholds = precision_recall_curve(y_test, pred_proba[:,1])"
   ]
  },
  {
   "cell_type": "code",
   "execution_count": 73,
   "metadata": {},
   "outputs": [
    {
     "data": {
      "text/plain": [
       "array([0.36363636, 0.36450839, 0.36538462, 0.36626506, 0.36714976,\n",
       "       0.36803874, 0.36982968, 0.37163814, 0.37254902, 0.37346437,\n",
       "       0.37530864, 0.37623762, 0.37717122, 0.37905237, 0.38      ,\n",
       "       0.38383838, 0.3857868 , 0.44186047, 0.4457478 , 0.44705882,\n",
       "       0.45103858, 0.45238095, 0.4592145 , 0.46060606, 0.46200608,\n",
       "       0.46769231, 0.47648903, 0.48717949, 0.49190939, 0.49350649,\n",
       "       0.49511401, 0.50165017, 0.51877133, 0.52413793, 0.52595156,\n",
       "       0.53333333, 0.53900709, 0.54092527, 0.54285714, 0.54480287,\n",
       "       0.54676259, 0.55072464, 0.55272727, 0.55474453, 0.55677656,\n",
       "       0.55882353, 0.56088561, 0.56296296, 0.56716418, 0.56928839,\n",
       "       0.57358491, 0.57794677, 0.58461538, 0.58687259, 0.58914729,\n",
       "       0.59143969, 0.59375   , 0.59607843, 0.5984252 , 0.60079051,\n",
       "       0.6031746 , 0.60557769, 0.61044177, 0.62295082, 0.63333333,\n",
       "       0.63598326, 0.64135021, 0.64680851, 0.65236052, 0.65517241,\n",
       "       0.66666667, 0.67555556, 0.68468468, 0.69090909, 0.69724771,\n",
       "       0.7037037 , 0.71361502, 0.72380952, 0.72727273, 0.73076923,\n",
       "       0.73429952, 0.73786408, 0.74509804, 0.75247525, 0.75621891,\n",
       "       0.7638191 , 0.7715736 , 0.7755102 , 0.77948718, 0.78756477,\n",
       "       0.8       , 0.80851064, 0.81283422, 0.8172043 , 0.83060109,\n",
       "       0.83977901, 0.83888889, 0.84831461, 0.84659091, 0.85142857,\n",
       "       0.85632184, 0.86127168, 0.86627907, 0.87134503, 0.87647059,\n",
       "       0.875     , 0.89634146, 0.89570552, 0.93589744, 0.93506494,\n",
       "       0.94117647, 0.94078947, 0.94701987, 0.94666667, 0.95302013,\n",
       "       0.96598639, 0.97260274, 0.97202797, 0.96694215, 0.96666667,\n",
       "       0.97478992, 0.97457627, 0.97413793, 0.97368421, 0.97345133,\n",
       "       0.98214286, 0.98181818, 0.98130841, 0.98019802, 0.98      ,\n",
       "       0.98989899, 0.98979592, 0.98958333, 0.98947368, 0.98901099,\n",
       "       0.98876404, 0.98850575, 0.98837209, 1.        , 1.        ,\n",
       "       1.        , 1.        , 1.        , 1.        , 1.        ,\n",
       "       1.        , 1.        , 1.        , 1.        , 1.        ,\n",
       "       1.        , 1.        , 1.        , 1.        , 1.        ,\n",
       "       1.        , 1.        , 1.        , 1.        , 1.        ,\n",
       "       1.        , 1.        , 1.        , 1.        , 1.        ,\n",
       "       1.        , 1.        , 1.        , 1.        , 1.        ,\n",
       "       1.        , 1.        , 1.        , 1.        , 1.        ,\n",
       "       1.        , 1.        , 1.        , 1.        , 1.        ,\n",
       "       1.        , 1.        , 1.        , 1.        , 1.        ,\n",
       "       1.        , 1.        , 1.        , 1.        , 1.        ,\n",
       "       1.        , 1.        , 1.        , 1.        , 1.        ])"
      ]
     },
     "execution_count": 73,
     "metadata": {},
     "output_type": "execute_result"
    }
   ],
   "source": [
    "precision"
   ]
  },
  {
   "cell_type": "code",
   "execution_count": 74,
   "metadata": {},
   "outputs": [
    {
     "data": {
      "text/plain": [
       "array([1.        , 1.        , 1.        , 1.        , 1.        ,\n",
       "       1.        , 1.        , 1.        , 1.        , 1.        ,\n",
       "       1.        , 1.        , 1.        , 1.        , 1.        ,\n",
       "       1.        , 1.        , 1.        , 1.        , 1.        ,\n",
       "       1.        , 1.        , 1.        , 1.        , 1.        ,\n",
       "       1.        , 1.        , 1.        , 1.        , 1.        ,\n",
       "       1.        , 1.        , 1.        , 1.        , 1.        ,\n",
       "       1.        , 1.        , 1.        , 1.        , 1.        ,\n",
       "       1.        , 1.        , 1.        , 1.        , 1.        ,\n",
       "       1.        , 1.        , 1.        , 1.        , 1.        ,\n",
       "       1.        , 1.        , 1.        , 1.        , 1.        ,\n",
       "       1.        , 1.        , 1.        , 1.        , 1.        ,\n",
       "       1.        , 1.        , 1.        , 1.        , 1.        ,\n",
       "       1.        , 1.        , 1.        , 1.        , 1.        ,\n",
       "       1.        , 1.        , 1.        , 1.        , 1.        ,\n",
       "       1.        , 1.        , 1.        , 1.        , 1.        ,\n",
       "       1.        , 1.        , 1.        , 1.        , 1.        ,\n",
       "       1.        , 1.        , 1.        , 1.        , 1.        ,\n",
       "       1.        , 1.        , 1.        , 1.        , 1.        ,\n",
       "       1.        , 0.99342105, 0.99342105, 0.98026316, 0.98026316,\n",
       "       0.98026316, 0.98026316, 0.98026316, 0.98026316, 0.98026316,\n",
       "       0.96710526, 0.96710526, 0.96052632, 0.96052632, 0.94736842,\n",
       "       0.94736842, 0.94078947, 0.94078947, 0.93421053, 0.93421053,\n",
       "       0.93421053, 0.93421053, 0.91447368, 0.76973684, 0.76315789,\n",
       "       0.76315789, 0.75657895, 0.74342105, 0.73026316, 0.72368421,\n",
       "       0.72368421, 0.71052632, 0.69078947, 0.65131579, 0.64473684,\n",
       "       0.64473684, 0.63815789, 0.625     , 0.61842105, 0.59210526,\n",
       "       0.57894737, 0.56578947, 0.55921053, 0.55921053, 0.55263158,\n",
       "       0.54605263, 0.53947368, 0.53289474, 0.52631579, 0.51973684,\n",
       "       0.51315789, 0.5       , 0.49342105, 0.48026316, 0.46710526,\n",
       "       0.46052632, 0.44736842, 0.42763158, 0.42105263, 0.41447368,\n",
       "       0.40131579, 0.39473684, 0.375     , 0.36842105, 0.35526316,\n",
       "       0.34868421, 0.32894737, 0.30921053, 0.30263158, 0.29605263,\n",
       "       0.28947368, 0.28289474, 0.27631579, 0.26973684, 0.26315789,\n",
       "       0.24342105, 0.23684211, 0.22368421, 0.19736842, 0.19078947,\n",
       "       0.18421053, 0.17105263, 0.16447368, 0.15131579, 0.14473684,\n",
       "       0.13815789, 0.125     , 0.11184211, 0.10526316, 0.09868421,\n",
       "       0.08552632, 0.07894737, 0.07236842, 0.05921053, 0.05263158,\n",
       "       0.04605263, 0.03289474, 0.01973684, 0.01315789, 0.        ])"
      ]
     },
     "execution_count": 74,
     "metadata": {},
     "output_type": "execute_result"
    }
   ],
   "source": [
    "recall"
   ]
  },
  {
   "cell_type": "code",
   "execution_count": 75,
   "metadata": {},
   "outputs": [
    {
     "data": {
      "text/plain": [
       "array([0.03451273, 0.04807468, 0.0597853 , 0.0635943 , 0.06458132,\n",
       "       0.06558258, 0.06762853, 0.06867356, 0.07300488, 0.07412639,\n",
       "       0.07641708, 0.07758662, 0.08119421, 0.08243034, 0.08368358,\n",
       "       0.0862421 , 0.08967637, 0.09157253, 0.09330995, 0.09434741,\n",
       "       0.09613191, 0.09719739, 0.09865099, 0.09902989, 0.10012393,\n",
       "       0.10312852, 0.10621264, 0.10937774, 0.11099111, 0.11141154,\n",
       "       0.11262527, 0.11595667, 0.11937336, 0.12466134, 0.12646814,\n",
       "       0.13014896, 0.13634077, 0.1397506 , 0.14026278, 0.14174069,\n",
       "       0.14579181, 0.1483899 , 0.15204802, 0.15852287, 0.16130499,\n",
       "       0.16296258, 0.16580726, 0.17040966, 0.17214161, 0.175113  ,\n",
       "       0.17688256, 0.179918  , 0.18172542, 0.18983547, 0.20016618,\n",
       "       0.2030307 , 0.20345706, 0.20548738, 0.20570643, 0.21091273,\n",
       "       0.21997518, 0.22207604, 0.23365525, 0.23543308, 0.23738398,\n",
       "       0.23960002, 0.24564756, 0.2517972 , 0.25571883, 0.25804812,\n",
       "       0.26439939, 0.27084991, 0.27739847, 0.28156878, 0.28404367,\n",
       "       0.290784  , 0.29507337, 0.29761779, 0.30196504, 0.30454322,\n",
       "       0.30803969, 0.30894714, 0.31155831, 0.31866096, 0.33041453,\n",
       "       0.33773616, 0.34047077, 0.3451364 , 0.35261246, 0.36016139,\n",
       "       0.36778013, 0.38321403, 0.3861022 , 0.3910224 , 0.39888698,\n",
       "       0.40917757, 0.41476987, 0.42518038, 0.43083192, 0.43382654,\n",
       "       0.43892009, 0.46336312, 0.46745738, 0.47976428, 0.48221742,\n",
       "       0.48798348, 0.49043902, 0.49045797, 0.4986658 , 0.50032308,\n",
       "       0.50689331, 0.51266229, 0.52333267, 0.529088  , 0.53727952,\n",
       "       0.54545096, 0.54788624, 0.55033799, 0.55602515, 0.56171633,\n",
       "       0.56413411, 0.57220891, 0.58024542, 0.58528095, 0.5938195 ,\n",
       "       0.59618749, 0.60408522, 0.61192902, 0.61971526, 0.62514043,\n",
       "       0.62744039, 0.63510098, 0.63890605, 0.64269377, 0.65021557,\n",
       "       0.65766338, 0.67687163, 0.67739093, 0.69807909, 0.70064462,\n",
       "       0.70750169, 0.7226435 , 0.74663622, 0.75281148, 0.75664507,\n",
       "       0.75888483, 0.76384781, 0.78565521, 0.79114548, 0.792777  ,\n",
       "       0.7945468 , 0.79653153, 0.79986733, 0.81206604, 0.81520624,\n",
       "       0.82011289, 0.821906  , 0.82491724, 0.83133777, 0.83590232,\n",
       "       0.83872334, 0.84036705, 0.84312572, 0.84473288, 0.8474298 ,\n",
       "       0.84900075, 0.85574708, 0.85976246, 0.86122723, 0.86751255,\n",
       "       0.87124971, 0.87261227, 0.8784547 , 0.88530958, 0.88654272,\n",
       "       0.89801381, 0.90388629, 0.90670777, 0.90773481, 0.90795509,\n",
       "       0.90945472, 0.91473097, 0.9197269 , 0.92212343, 0.92283159,\n",
       "       0.92445429, 0.92672094, 0.9289248 , 0.93106731, 0.93314989,\n",
       "       0.93714081, 0.93905191, 0.94090856, 0.94616511])"
      ]
     },
     "execution_count": 75,
     "metadata": {},
     "output_type": "execute_result"
    }
   ],
   "source": [
    "thresholds"
   ]
  },
  {
   "cell_type": "code",
   "execution_count": 77,
   "metadata": {},
   "outputs": [
    {
     "name": "stdout",
     "output_type": "stream",
     "text": [
      "Collecting matplotlib\n",
      "  Downloading matplotlib-3.8.3-cp39-cp39-win_amd64.whl (7.6 MB)\n",
      "Requirement already satisfied: python-dateutil>=2.7 in c:\\users\\user\\appdata\\roaming\\python\\python39\\site-packages (from matplotlib) (2.8.2)\n",
      "Collecting importlib-resources>=3.2.0\n",
      "  Downloading importlib_resources-6.1.3-py3-none-any.whl (34 kB)\n",
      "Collecting cycler>=0.10\n",
      "  Downloading cycler-0.12.1-py3-none-any.whl (8.3 kB)\n",
      "Collecting contourpy>=1.0.1\n",
      "  Downloading contourpy-1.2.0-cp39-cp39-win_amd64.whl (181 kB)\n",
      "Collecting pillow>=8\n",
      "  Downloading pillow-10.2.0-cp39-cp39-win_amd64.whl (2.6 MB)\n",
      "Collecting pyparsing>=2.3.1\n",
      "  Downloading pyparsing-3.1.2-py3-none-any.whl (103 kB)\n",
      "Requirement already satisfied: numpy<2,>=1.21 in c:\\users\\user\\appdata\\local\\programs\\python\\python39\\lib\\site-packages (from matplotlib) (1.26.4)\n",
      "Requirement already satisfied: packaging>=20.0 in c:\\users\\user\\appdata\\roaming\\python\\python39\\site-packages (from matplotlib) (23.2)\n",
      "Collecting fonttools>=4.22.0\n",
      "  Downloading fonttools-4.49.0-cp39-cp39-win_amd64.whl (2.2 MB)\n",
      "Collecting kiwisolver>=1.3.1\n",
      "  Downloading kiwisolver-1.4.5-cp39-cp39-win_amd64.whl (56 kB)\n",
      "Requirement already satisfied: zipp>=3.1.0 in c:\\users\\user\\appdata\\roaming\\python\\python39\\site-packages (from importlib-resources>=3.2.0->matplotlib) (3.17.0)\n",
      "Requirement already satisfied: six>=1.5 in c:\\users\\user\\appdata\\roaming\\python\\python39\\site-packages (from python-dateutil>=2.7->matplotlib) (1.16.0)\n",
      "Installing collected packages: pyparsing, pillow, kiwisolver, importlib-resources, fonttools, cycler, contourpy, matplotlib\n",
      "Successfully installed contourpy-1.2.0 cycler-0.12.1 fonttools-4.49.0 importlib-resources-6.1.3 kiwisolver-1.4.5 matplotlib-3.8.3 pillow-10.2.0 pyparsing-3.1.2\n",
      "Note: you may need to restart the kernel to use updated packages.\n"
     ]
    },
    {
     "name": "stderr",
     "output_type": "stream",
     "text": [
      "  WARNING: The scripts fonttools.exe, pyftmerge.exe, pyftsubset.exe and ttx.exe are installed in 'c:\\Users\\User\\AppData\\Local\\Programs\\Python\\Python39\\Scripts' which is not on PATH.\n",
      "  Consider adding this directory to PATH or, if you prefer to suppress this warning, use --no-warn-script-location.\n",
      "WARNING: You are using pip version 21.2.3; however, version 24.0 is available.\n",
      "You should consider upgrading via the 'c:\\Users\\User\\AppData\\Local\\Programs\\Python\\Python39\\python.exe -m pip install --upgrade pip' command.\n"
     ]
    }
   ],
   "source": [
    "pip install matplotlib"
   ]
  },
  {
   "cell_type": "code",
   "execution_count": 78,
   "metadata": {},
   "outputs": [
    {
     "data": {
      "image/png": "[encoded data removed]",
      "text/plain": [
       "<Figure size 640x480 with 1 Axes>"
      ]
     },
     "metadata": {},
     "output_type": "display_data"
    }
   ],
   "source": [
    "# matplotlib.pyplot.plot\n",
    "import matplotlib.pyplot as plt\n",
    "\n",
    "plt.plot(thresholds , precision[:-1] , c='blue' , label=\"precision\")\n",
    "plt.plot(thresholds , recall[:-1] , c='red', label=\"recall\")\n",
    "plt.xlabel(\"thresholds\")\n",
    "plt.ylabel(\"precsion & recall\")\n",
    "plt.legend()\n",
    "plt.show()"
   ]
  },
  {
   "cell_type": "code",
   "execution_count": 82,
   "metadata": {},
   "outputs": [],
   "source": [
    "# sklearn.metrics.roc_curve\n",
    "from sklearn.metrics import roc_curve\n",
    "\n",
    "fprs, tprs, thresholds = roc_curve(y_test,pred_proba[:,1])"
   ]
  },
  {
   "cell_type": "code",
   "execution_count": 89,
   "metadata": {},
   "outputs": [
    {
     "data": {
      "image/png": "[encoded data removed]",
      "text/plain": [
       "<Figure size 640x480 with 1 Axes>"
      ]
     },
     "metadata": {},
     "output_type": "display_data"
    }
   ],
   "source": [
    "len(fprs),len(thresholds)\n",
    "\n",
    "import matplotlib.pyplot as plt\n",
    "\n",
    "plt.plot(fprs , tprs, color = 'yellow')\n",
    "plt.xlabel(\"fpr\")\n",
    "plt.ylabel(\"tpr\")\n",
    "plt.show()"
   ]
  },
  {
   "cell_type": "code",
   "execution_count": 88,
   "metadata": {},
   "outputs": [
    {
     "data": {
      "text/plain": [
       "0.9916402849228334"
      ]
     },
     "execution_count": 88,
     "metadata": {},
     "output_type": "execute_result"
    }
   ],
   "source": [
    "# sklearn.metrics.roc_auc_score\n",
    "from sklearn.metrics import roc_auc_score\n",
    "\n",
    "roc_auc_score(y_test,pred_proba[:,1])"
   ]
  },
  {
   "cell_type": "code",
   "execution_count": null,
   "metadata": {},
   "outputs": [],
   "source": []
  },
  {
   "cell_type": "code",
   "execution_count": null,
   "metadata": {},
   "outputs": [],
   "source": []
  },
  {
   "cell_type": "code",
   "execution_count": null,
   "metadata": {},
   "outputs": [],
   "source": []
  },
  {
   "cell_type": "code",
   "execution_count": null,
   "metadata": {},
   "outputs": [],
   "source": []
  },
  {
   "cell_type": "code",
   "execution_count": null,
   "metadata": {},
   "outputs": [],
   "source": []
  },
  {
   "cell_type": "code",
   "execution_count": null,
   "metadata": {},
   "outputs": [],
   "source": []
  },
  {
   "cell_type": "code",
   "execution_count": null,
   "metadata": {},
   "outputs": [],
   "source": []
  },
  {
   "cell_type": "code",
   "execution_count": null,
   "metadata": {},
   "outputs": [],
   "source": []
  },
  {
   "cell_type": "code",
   "execution_count": null,
   "metadata": {},
   "outputs": [],
   "source": []
  },
  {
   "cell_type": "code",
   "execution_count": null,
   "metadata": {},
   "outputs": [],
   "source": []
  },
  {
   "cell_type": "code",
   "execution_count": null,
   "metadata": {},
   "outputs": [],
   "source": []
  },
  {
   "cell_type": "code",
   "execution_count": null,
   "metadata": {},
   "outputs": [],
   "source": []
  },
  {
   "cell_type": "code",
   "execution_count": null,
   "metadata": {},
   "outputs": [],
   "source": []
  },
  {
   "cell_type": "code",
   "execution_count": null,
   "metadata": {},
   "outputs": [],
   "source": []
  },
  {
   "cell_type": "code",
   "execution_count": null,
   "metadata": {},
   "outputs": [],
   "source": []
  },
  {
   "cell_type": "code",
   "execution_count": null,
   "metadata": {},
   "outputs": [],
   "source": []
  },
  {
   "cell_type": "code",
   "execution_count": null,
   "metadata": {},
   "outputs": [],
   "source": []
  },
  {
   "cell_type": "code",
   "execution_count": null,
   "metadata": {},
   "outputs": [],
   "source": []
  },
  {
   "cell_type": "code",
   "execution_count": null,
   "metadata": {},
   "outputs": [],
   "source": []
  },
  {
   "cell_type": "code",
   "execution_count": null,
   "metadata": {},
   "outputs": [],
   "source": []
  },
  {
   "cell_type": "code",
   "execution_count": null,
   "metadata": {},
   "outputs": [],
   "source": []
  },
  {
   "cell_type": "code",
   "execution_count": null,
   "metadata": {},
   "outputs": [],
   "source": []
  }
 ],
 "metadata": {
  "kernelspec": {
   "display_name": "Python 3",
   "language": "python",
   "name": "python3"
  },
  "language_info": {
   "codemirror_mode": {
    "name": "ipython",
    "version": 3
   },
   "file_extension": ".py",
   "mimetype": "text/x-python",
   "name": "python",
   "nbconvert_exporter": "python",
   "pygments_lexer": "ipython3",
   "version": "3.9.7"
  }
 },
 "nbformat": 4,
 "nbformat_minor": 2
}
